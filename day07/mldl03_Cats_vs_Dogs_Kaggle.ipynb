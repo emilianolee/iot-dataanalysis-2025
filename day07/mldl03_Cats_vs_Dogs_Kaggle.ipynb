{
 "cells": [
  {
   "cell_type": "code",
   "execution_count": 1,
   "metadata": {
    "_cell_guid": "b1076dfc-b9ad-4769-8c92-a6c4dae69d19",
    "_uuid": "8f2839f25d086af736a60e9eeb907d3b93b6e0e5",
    "execution": {
     "iopub.execute_input": "2025-04-16T06:00:21.803195Z",
     "iopub.status.busy": "2025-04-16T06:00:21.802914Z",
     "iopub.status.idle": "2025-04-16T06:00:22.158583Z",
     "shell.execute_reply": "2025-04-16T06:00:22.157599Z",
     "shell.execute_reply.started": "2025-04-16T06:00:21.803172Z"
    },
    "trusted": true
   },
   "outputs": [],
   "source": [
    "# This Python 3 environment comes with many helpful analytics libraries installed\n",
    "# It is defined by the kaggle/python Docker image: https://github.com/kaggle/docker-python\n",
    "# For example, here's several helpful packages to load\n",
    "\n",
    "import numpy as np # linear algebra\n",
    "import pandas as pd # data processing, CSV file I/O (e.g. pd.read_csv)\n",
    "\n",
    "# Input data files are available in the read-only \"../input/\" directory\n",
    "# For example, running this (by clicking run or pressing Shift+Enter) will list all files under the input directory\n",
    "\n",
    "import os\n",
    "for dirname, _, filenames in os.walk('/kaggle/input'):\n",
    "    for filename in filenames:\n",
    "        print(os.path.join(dirname, filename))\n",
    "\n",
    "# You can write up to 20GB to the current directory (/kaggle/working/) that gets preserved as output when you create a version using \"Save & Run All\" \n",
    "# You can also write temporary files to /kaggle/temp/, but they won't be saved outside of the current session"
   ]
  },
  {
   "cell_type": "markdown",
   "metadata": {},
   "source": [
    "### Load Modules\n",
    "\n",
    "- Kaggle 압축파일, 경로가 상이하기 때문에 Kaggle에 맞춰서 변경"
   ]
  },
  {
   "cell_type": "code",
   "execution_count": 2,
   "metadata": {
    "execution": {
     "iopub.execute_input": "2025-04-16T06:10:05.482256Z",
     "iopub.status.busy": "2025-04-16T06:10:05.481929Z",
     "iopub.status.idle": "2025-04-16T06:10:05.487247Z",
     "shell.execute_reply": "2025-04-16T06:10:05.486537Z",
     "shell.execute_reply.started": "2025-04-16T06:10:05.482233Z"
    },
    "trusted": true
   },
   "outputs": [],
   "source": [
    "import random, shutil, zipfile\n",
    "import torch\n",
    "import torch.nn as nn\n",
    "import torch.nn.functional as F\n",
    "from torchvision import datasets, transforms\n",
    "from torch.utils.data import DataLoader\n",
    "from PIL import Image\n",
    "import matplotlib.pyplot as plt"
   ]
  },
  {
   "cell_type": "code",
   "execution_count": 3,
   "metadata": {
    "execution": {
     "iopub.execute_input": "2025-04-16T06:04:12.918269Z",
     "iopub.status.busy": "2025-04-16T06:04:12.917572Z",
     "iopub.status.idle": "2025-04-16T06:04:12.922700Z",
     "shell.execute_reply": "2025-04-16T06:04:12.921816Z",
     "shell.execute_reply.started": "2025-04-16T06:04:12.918234Z"
    },
    "trusted": true
   },
   "outputs": [],
   "source": [
    "base_dir = '/kaggle/working/data/sample'\n",
    "os.makedirs(f'{base_dir}/cat', exist_ok=True)\n",
    "os.makedirs(f'{base_dir}/dog', exist_ok=True)"
   ]
  },
  {
   "cell_type": "code",
   "execution_count": 4,
   "metadata": {
    "execution": {
     "iopub.execute_input": "2025-04-16T06:06:30.334551Z",
     "iopub.status.busy": "2025-04-16T06:06:30.334043Z",
     "iopub.status.idle": "2025-04-16T06:06:30.340017Z",
     "shell.execute_reply": "2025-04-16T06:06:30.339144Z",
     "shell.execute_reply.started": "2025-04-16T06:06:30.334527Z"
    },
    "trusted": true
   },
   "outputs": [
    {
     "data": {
      "text/plain": [
       "['dog.1000.jpg',\n",
       " 'dog.10017.jpg',\n",
       " 'dog.10031.jpg',\n",
       " 'dog.10039.jpg',\n",
       " 'dog.10054.jpg',\n",
       " 'dog.10062.jpg',\n",
       " 'dog.1007.jpg',\n",
       " 'dog.10074.jpg',\n",
       " 'dog.10085.jpg',\n",
       " 'dog.10090.jpg',\n",
       " 'dog.10095.jpg',\n",
       " 'dog.10102.jpg',\n",
       " 'dog.10110.jpg',\n",
       " 'dog.10122.jpg',\n",
       " 'dog.10123.jpg',\n",
       " 'dog.10128.jpg',\n",
       " 'dog.10135.jpg',\n",
       " 'dog.10138.jpg',\n",
       " 'dog.10143.jpg',\n",
       " 'dog.10145.jpg',\n",
       " 'dog.10148.jpg',\n",
       " 'dog.10155.jpg',\n",
       " 'dog.10159.jpg',\n",
       " 'dog.10160.jpg',\n",
       " 'dog.10192.jpg',\n",
       " 'dog.10195.jpg',\n",
       " 'dog.10198.jpg',\n",
       " 'dog.10212.jpg',\n",
       " 'dog.10255.jpg',\n",
       " 'dog.10276.jpg',\n",
       " 'dog.10281.jpg',\n",
       " 'dog.10305.jpg',\n",
       " 'dog.10313.jpg',\n",
       " 'dog.10333.jpg',\n",
       " 'dog.10338.jpg',\n",
       " 'dog.10341.jpg',\n",
       " 'dog.10344.jpg',\n",
       " 'dog.10366.jpg',\n",
       " 'dog.10388.jpg',\n",
       " 'dog.104.jpg',\n",
       " 'dog.10404.jpg',\n",
       " 'dog.10407.jpg',\n",
       " 'dog.10420.jpg',\n",
       " 'dog.10426.jpg',\n",
       " 'dog.10445.jpg',\n",
       " 'dog.10448.jpg',\n",
       " 'dog.10453.jpg',\n",
       " 'dog.10463.jpg',\n",
       " 'dog.10473.jpg',\n",
       " 'dog.10485.jpg',\n",
       " 'dog.10501.jpg',\n",
       " 'dog.10503.jpg',\n",
       " 'dog.10509.jpg',\n",
       " 'dog.10542.jpg',\n",
       " 'dog.10543.jpg',\n",
       " 'dog.10546.jpg',\n",
       " 'dog.10554.jpg',\n",
       " 'dog.10571.jpg',\n",
       " 'dog.10593.jpg',\n",
       " 'dog.10603.jpg',\n",
       " 'dog.10606.jpg',\n",
       " 'dog.10612.jpg',\n",
       " 'dog.10613.jpg',\n",
       " 'dog.10618.jpg',\n",
       " 'dog.10623.jpg',\n",
       " 'dog.10641.jpg',\n",
       " 'dog.10644.jpg',\n",
       " 'dog.10660.jpg',\n",
       " 'dog.10678.jpg',\n",
       " 'dog.1068.jpg',\n",
       " 'dog.10721.jpg',\n",
       " 'dog.10743.jpg',\n",
       " 'dog.10751.jpg',\n",
       " 'dog.10758.jpg',\n",
       " 'dog.10765.jpg',\n",
       " 'dog.10771.jpg',\n",
       " 'dog.10772.jpg',\n",
       " 'dog.10773.jpg',\n",
       " 'dog.1078.jpg',\n",
       " 'dog.10788.jpg',\n",
       " 'dog.10807.jpg',\n",
       " 'dog.1081.jpg',\n",
       " 'dog.10810.jpg',\n",
       " 'dog.10813.jpg',\n",
       " 'dog.10816.jpg',\n",
       " 'dog.10823.jpg',\n",
       " 'dog.10846.jpg',\n",
       " 'dog.10854.jpg',\n",
       " 'dog.10869.jpg',\n",
       " 'dog.10872.jpg',\n",
       " 'dog.10876.jpg',\n",
       " 'dog.10877.jpg',\n",
       " 'dog.10891.jpg',\n",
       " 'dog.10894.jpg',\n",
       " 'dog.10914.jpg',\n",
       " 'dog.10918.jpg',\n",
       " 'dog.1092.jpg',\n",
       " 'dog.10926.jpg',\n",
       " 'dog.10939.jpg',\n",
       " 'dog.10954.jpg',\n",
       " 'dog.10963.jpg',\n",
       " 'dog.10964.jpg',\n",
       " 'dog.10967.jpg',\n",
       " 'dog.10979.jpg',\n",
       " 'dog.10990.jpg',\n",
       " 'dog.10991.jpg',\n",
       " 'dog.10992.jpg',\n",
       " 'dog.10999.jpg',\n",
       " 'dog.11009.jpg',\n",
       " 'dog.11017.jpg',\n",
       " 'dog.11022.jpg',\n",
       " 'dog.11027.jpg',\n",
       " 'dog.11028.jpg',\n",
       " 'dog.11030.jpg',\n",
       " 'dog.11033.jpg',\n",
       " 'dog.11039.jpg',\n",
       " 'dog.11045.jpg',\n",
       " 'dog.11049.jpg',\n",
       " 'dog.11055.jpg',\n",
       " 'dog.11058.jpg',\n",
       " 'dog.11090.jpg',\n",
       " 'dog.11091.jpg',\n",
       " 'dog.11098.jpg',\n",
       " 'dog.11100.jpg',\n",
       " 'dog.11102.jpg',\n",
       " 'dog.11106.jpg',\n",
       " 'dog.11112.jpg',\n",
       " 'dog.11119.jpg',\n",
       " 'dog.11122.jpg',\n",
       " 'dog.11128.jpg',\n",
       " 'dog.11134.jpg',\n",
       " 'dog.11135.jpg',\n",
       " 'dog.1114.jpg',\n",
       " 'dog.11149.jpg',\n",
       " 'dog.1115.jpg',\n",
       " 'dog.11173.jpg',\n",
       " 'dog.11176.jpg',\n",
       " 'dog.11178.jpg',\n",
       " 'dog.11184.jpg',\n",
       " 'dog.112.jpg',\n",
       " 'dog.11207.jpg',\n",
       " 'dog.11212.jpg',\n",
       " 'dog.11220.jpg',\n",
       " 'dog.11231.jpg',\n",
       " 'dog.11238.jpg',\n",
       " 'dog.11246.jpg',\n",
       " 'dog.11249.jpg',\n",
       " 'dog.11250.jpg',\n",
       " 'dog.11258.jpg',\n",
       " 'dog.1126.jpg',\n",
       " 'dog.11262.jpg',\n",
       " 'dog.11266.jpg',\n",
       " 'dog.11268.jpg',\n",
       " 'dog.1128.jpg',\n",
       " 'dog.11280.jpg',\n",
       " 'dog.1129.jpg',\n",
       " 'dog.11295.jpg',\n",
       " 'dog.11297.jpg',\n",
       " 'dog.11298.jpg',\n",
       " 'dog.11305.jpg',\n",
       " 'dog.11306.jpg',\n",
       " 'dog.11312.jpg',\n",
       " 'dog.11320.jpg',\n",
       " 'dog.11327.jpg',\n",
       " 'dog.11328.jpg',\n",
       " 'dog.11334.jpg',\n",
       " 'dog.11338.jpg',\n",
       " 'dog.11340.jpg',\n",
       " 'dog.11341.jpg',\n",
       " 'dog.11344.jpg',\n",
       " 'dog.11356.jpg',\n",
       " 'dog.11364.jpg',\n",
       " 'dog.1137.jpg',\n",
       " 'dog.11392.jpg',\n",
       " 'dog.11396.jpg',\n",
       " 'dog.11401.jpg',\n",
       " 'dog.11409.jpg',\n",
       " 'dog.11425.jpg',\n",
       " 'dog.11426.jpg',\n",
       " 'dog.11429.jpg',\n",
       " 'dog.11435.jpg',\n",
       " 'dog.1144.jpg',\n",
       " 'dog.11451.jpg',\n",
       " 'dog.11467.jpg',\n",
       " 'dog.1147.jpg',\n",
       " 'dog.11470.jpg',\n",
       " 'dog.11480.jpg',\n",
       " 'dog.11490.jpg',\n",
       " 'dog.11492.jpg',\n",
       " 'dog.11496.jpg',\n",
       " 'dog.1150.jpg',\n",
       " 'dog.11500.jpg',\n",
       " 'dog.11521.jpg',\n",
       " 'dog.11534.jpg',\n",
       " 'dog.11535.jpg',\n",
       " 'dog.1154.jpg',\n",
       " 'dog.11543.jpg',\n",
       " 'dog.11563.jpg',\n",
       " 'dog.11567.jpg',\n",
       " 'dog.11586.jpg',\n",
       " 'dog.11600.jpg',\n",
       " 'dog.11604.jpg',\n",
       " 'dog.11605.jpg',\n",
       " 'dog.11639.jpg',\n",
       " 'dog.11647.jpg',\n",
       " 'dog.1165.jpg',\n",
       " 'dog.11651.jpg',\n",
       " 'dog.11652.jpg',\n",
       " 'dog.11655.jpg',\n",
       " 'dog.1166.jpg',\n",
       " 'dog.11687.jpg',\n",
       " 'dog.11691.jpg',\n",
       " 'dog.11695.jpg',\n",
       " 'dog.11697.jpg',\n",
       " 'dog.11698.jpg',\n",
       " 'dog.11726.jpg',\n",
       " 'dog.11729.jpg',\n",
       " 'dog.11748.jpg',\n",
       " 'dog.11766.jpg',\n",
       " 'dog.11769.jpg',\n",
       " 'dog.1177.jpg',\n",
       " 'dog.11782.jpg',\n",
       " 'dog.11796.jpg',\n",
       " 'dog.11800.jpg',\n",
       " 'dog.11801.jpg',\n",
       " 'dog.11804.jpg',\n",
       " 'dog.11808.jpg',\n",
       " 'dog.11812.jpg',\n",
       " 'dog.11815.jpg',\n",
       " 'dog.11823.jpg',\n",
       " 'dog.11846.jpg',\n",
       " 'dog.11851.jpg',\n",
       " 'dog.11862.jpg',\n",
       " 'dog.11871.jpg',\n",
       " 'dog.11872.jpg',\n",
       " 'dog.11878.jpg',\n",
       " 'dog.11888.jpg',\n",
       " 'dog.11895.jpg',\n",
       " 'dog.11915.jpg',\n",
       " 'dog.11916.jpg',\n",
       " 'dog.11918.jpg',\n",
       " 'dog.11928.jpg',\n",
       " 'dog.11942.jpg',\n",
       " 'dog.11946.jpg',\n",
       " 'dog.11958.jpg',\n",
       " 'dog.11969.jpg',\n",
       " 'dog.1197.jpg',\n",
       " 'dog.11972.jpg',\n",
       " 'dog.11973.jpg',\n",
       " 'dog.11981.jpg',\n",
       " 'dog.11985.jpg',\n",
       " 'dog.1200.jpg',\n",
       " 'dog.12000.jpg',\n",
       " 'dog.12022.jpg',\n",
       " 'dog.12023.jpg',\n",
       " 'dog.12026.jpg',\n",
       " 'dog.12033.jpg',\n",
       " 'dog.12035.jpg',\n",
       " 'dog.12046.jpg',\n",
       " 'dog.12052.jpg',\n",
       " 'dog.12062.jpg',\n",
       " 'dog.12081.jpg',\n",
       " 'dog.12086.jpg',\n",
       " 'dog.12095.jpg',\n",
       " 'dog.12110.jpg',\n",
       " 'dog.12118.jpg',\n",
       " 'dog.12122.jpg',\n",
       " 'dog.12127.jpg',\n",
       " 'dog.12131.jpg',\n",
       " 'dog.12132.jpg',\n",
       " 'dog.12138.jpg',\n",
       " 'dog.12145.jpg',\n",
       " 'dog.12172.jpg',\n",
       " 'dog.12188.jpg',\n",
       " 'dog.12193.jpg',\n",
       " 'dog.12195.jpg',\n",
       " 'dog.1220.jpg',\n",
       " 'dog.12204.jpg',\n",
       " 'dog.12208.jpg',\n",
       " 'dog.12209.jpg',\n",
       " 'dog.12215.jpg',\n",
       " 'dog.12219.jpg',\n",
       " 'dog.12223.jpg',\n",
       " 'dog.12234.jpg',\n",
       " 'dog.12237.jpg',\n",
       " 'dog.12239.jpg',\n",
       " 'dog.12254.jpg',\n",
       " 'dog.12255.jpg',\n",
       " 'dog.12264.jpg',\n",
       " 'dog.12269.jpg',\n",
       " 'dog.12270.jpg',\n",
       " 'dog.12276.jpg',\n",
       " 'dog.1228.jpg',\n",
       " 'dog.12280.jpg',\n",
       " 'dog.12298.jpg',\n",
       " 'dog.12307.jpg',\n",
       " 'dog.12320.jpg',\n",
       " 'dog.12349.jpg',\n",
       " 'dog.12377.jpg',\n",
       " 'dog.12380.jpg',\n",
       " 'dog.12383.jpg',\n",
       " 'dog.12397.jpg',\n",
       " 'dog.12402.jpg',\n",
       " 'dog.12406.jpg',\n",
       " 'dog.12409.jpg',\n",
       " 'dog.12416.jpg',\n",
       " 'dog.12422.jpg',\n",
       " 'dog.1243.jpg',\n",
       " 'dog.12434.jpg',\n",
       " 'dog.12442.jpg',\n",
       " 'dog.12457.jpg',\n",
       " 'dog.12461.jpg',\n",
       " 'dog.12477.jpg',\n",
       " 'dog.12490.jpg',\n",
       " 'dog.12494.jpg',\n",
       " 'dog.12499.jpg',\n",
       " 'dog.1258.jpg',\n",
       " 'dog.1262.jpg',\n",
       " 'dog.1266.jpg',\n",
       " 'dog.1268.jpg',\n",
       " 'dog.1269.jpg',\n",
       " 'dog.127.jpg',\n",
       " 'dog.1273.jpg',\n",
       " 'dog.128.jpg',\n",
       " 'dog.1280.jpg',\n",
       " 'dog.1288.jpg',\n",
       " 'dog.1303.jpg',\n",
       " 'dog.131.jpg',\n",
       " 'dog.1313.jpg',\n",
       " 'dog.1325.jpg',\n",
       " 'dog.133.jpg',\n",
       " 'dog.1332.jpg',\n",
       " 'dog.1336.jpg',\n",
       " 'dog.1338.jpg',\n",
       " 'dog.1342.jpg',\n",
       " 'dog.135.jpg',\n",
       " 'dog.1351.jpg',\n",
       " 'dog.1355.jpg',\n",
       " 'dog.1379.jpg',\n",
       " 'dog.1383.jpg',\n",
       " 'dog.139.jpg',\n",
       " 'dog.1393.jpg',\n",
       " 'dog.1408.jpg',\n",
       " 'dog.1414.jpg',\n",
       " 'dog.1416.jpg',\n",
       " 'dog.1421.jpg',\n",
       " 'dog.1423.jpg',\n",
       " 'dog.1429.jpg',\n",
       " 'dog.1446.jpg',\n",
       " 'dog.1448.jpg',\n",
       " 'dog.1459.jpg',\n",
       " 'dog.146.jpg',\n",
       " 'dog.1465.jpg',\n",
       " 'dog.1467.jpg',\n",
       " 'dog.1489.jpg',\n",
       " 'dog.149.jpg',\n",
       " 'dog.1518.jpg',\n",
       " 'dog.1528.jpg',\n",
       " 'dog.1529.jpg',\n",
       " 'dog.153.jpg',\n",
       " 'dog.154.jpg',\n",
       " 'dog.1546.jpg',\n",
       " 'dog.1566.jpg',\n",
       " 'dog.1573.jpg',\n",
       " 'dog.1580.jpg',\n",
       " 'dog.1582.jpg',\n",
       " 'dog.1585.jpg',\n",
       " 'dog.1588.jpg',\n",
       " 'dog.1598.jpg',\n",
       " 'dog.160.jpg',\n",
       " 'dog.1605.jpg',\n",
       " 'dog.1614.jpg',\n",
       " 'dog.1616.jpg',\n",
       " 'dog.1618.jpg',\n",
       " 'dog.1639.jpg',\n",
       " 'dog.1642.jpg',\n",
       " 'dog.1661.jpg',\n",
       " 'dog.1668.jpg',\n",
       " 'dog.1670.jpg',\n",
       " 'dog.169.jpg',\n",
       " 'dog.1723.jpg',\n",
       " 'dog.1727.jpg',\n",
       " 'dog.1736.jpg',\n",
       " 'dog.1760.jpg',\n",
       " 'dog.177.jpg',\n",
       " 'dog.1783.jpg',\n",
       " 'dog.1785.jpg',\n",
       " 'dog.1791.jpg',\n",
       " 'dog.1798.jpg',\n",
       " 'dog.1812.jpg',\n",
       " 'dog.1815.jpg',\n",
       " 'dog.1829.jpg',\n",
       " 'dog.1834.jpg',\n",
       " 'dog.1839.jpg',\n",
       " 'dog.192.jpg',\n",
       " 'dog.1922.jpg',\n",
       " 'dog.1926.jpg',\n",
       " 'dog.1928.jpg',\n",
       " 'dog.193.jpg',\n",
       " 'dog.1961.jpg',\n",
       " 'dog.1966.jpg',\n",
       " 'dog.1967.jpg',\n",
       " 'dog.1970.jpg',\n",
       " 'dog.199.jpg',\n",
       " 'dog.1995.jpg',\n",
       " 'dog.1999.jpg',\n",
       " 'dog.2008.jpg',\n",
       " 'dog.2034.jpg',\n",
       " 'dog.2042.jpg',\n",
       " 'dog.2048.jpg',\n",
       " 'dog.2067.jpg',\n",
       " 'dog.2076.jpg',\n",
       " 'dog.2085.jpg',\n",
       " 'dog.212.jpg',\n",
       " 'dog.2128.jpg',\n",
       " 'dog.2133.jpg',\n",
       " 'dog.2151.jpg',\n",
       " 'dog.2154.jpg',\n",
       " 'dog.2157.jpg',\n",
       " 'dog.2164.jpg',\n",
       " 'dog.2174.jpg',\n",
       " 'dog.2177.jpg',\n",
       " 'dog.2181.jpg',\n",
       " 'dog.2190.jpg',\n",
       " 'dog.22.jpg',\n",
       " 'dog.2216.jpg',\n",
       " 'dog.2226.jpg',\n",
       " 'dog.2227.jpg',\n",
       " 'dog.2240.jpg',\n",
       " 'dog.225.jpg',\n",
       " 'dog.2254.jpg',\n",
       " 'dog.226.jpg',\n",
       " 'dog.2279.jpg',\n",
       " 'dog.2285.jpg',\n",
       " 'dog.2289.jpg',\n",
       " 'dog.23.jpg',\n",
       " 'dog.2310.jpg',\n",
       " 'dog.2320.jpg',\n",
       " 'dog.2335.jpg',\n",
       " 'dog.2337.jpg',\n",
       " 'dog.2352.jpg',\n",
       " 'dog.2360.jpg',\n",
       " 'dog.2361.jpg',\n",
       " 'dog.2376.jpg',\n",
       " 'dog.2381.jpg',\n",
       " 'dog.2385.jpg',\n",
       " 'dog.2386.jpg',\n",
       " 'dog.2398.jpg',\n",
       " 'dog.2411.jpg',\n",
       " 'dog.2416.jpg',\n",
       " 'dog.242.jpg',\n",
       " 'dog.2424.jpg',\n",
       " 'dog.2450.jpg',\n",
       " 'dog.2468.jpg',\n",
       " 'dog.247.jpg',\n",
       " 'dog.2472.jpg',\n",
       " 'dog.2475.jpg',\n",
       " 'dog.2491.jpg',\n",
       " 'dog.2492.jpg',\n",
       " 'dog.2503.jpg',\n",
       " 'dog.2508.jpg',\n",
       " 'dog.2511.jpg',\n",
       " 'dog.2518.jpg',\n",
       " 'dog.2519.jpg',\n",
       " 'dog.2531.jpg',\n",
       " 'dog.2534.jpg',\n",
       " 'dog.255.jpg',\n",
       " 'dog.2552.jpg',\n",
       " 'dog.256.jpg',\n",
       " 'dog.2560.jpg',\n",
       " 'dog.2561.jpg',\n",
       " 'dog.2569.jpg',\n",
       " 'dog.257.jpg',\n",
       " 'dog.2576.jpg',\n",
       " 'dog.2579.jpg',\n",
       " 'dog.258.jpg',\n",
       " 'dog.2587.jpg',\n",
       " 'dog.2603.jpg',\n",
       " 'dog.2620.jpg',\n",
       " 'dog.2621.jpg',\n",
       " 'dog.2627.jpg',\n",
       " 'dog.2642.jpg',\n",
       " 'dog.2655.jpg',\n",
       " 'dog.2660.jpg',\n",
       " 'dog.2668.jpg',\n",
       " 'dog.2698.jpg',\n",
       " 'dog.27.jpg',\n",
       " 'dog.2705.jpg',\n",
       " 'dog.2714.jpg',\n",
       " 'dog.2719.jpg',\n",
       " 'dog.272.jpg',\n",
       " 'dog.2728.jpg',\n",
       " 'dog.273.jpg',\n",
       " 'dog.2742.jpg',\n",
       " 'dog.2745.jpg',\n",
       " 'dog.2748.jpg',\n",
       " 'dog.2762.jpg',\n",
       " 'dog.2764.jpg',\n",
       " 'dog.2765.jpg',\n",
       " 'dog.2769.jpg',\n",
       " 'dog.2774.jpg',\n",
       " 'dog.2783.jpg',\n",
       " 'dog.2784.jpg',\n",
       " 'dog.2800.jpg',\n",
       " 'dog.282.jpg',\n",
       " 'dog.2823.jpg',\n",
       " 'dog.2852.jpg',\n",
       " 'dog.2855.jpg',\n",
       " 'dog.286.jpg',\n",
       " 'dog.2881.jpg',\n",
       " 'dog.2889.jpg',\n",
       " 'dog.2907.jpg',\n",
       " 'dog.2916.jpg',\n",
       " 'dog.2918.jpg',\n",
       " 'dog.2921.jpg',\n",
       " 'dog.2924.jpg',\n",
       " 'dog.2925.jpg',\n",
       " 'dog.2939.jpg',\n",
       " 'dog.2952.jpg',\n",
       " 'dog.2954.jpg',\n",
       " 'dog.2960.jpg',\n",
       " 'dog.297.jpg',\n",
       " 'dog.2977.jpg',\n",
       " 'dog.2989.jpg',\n",
       " 'dog.300.jpg',\n",
       " 'dog.3001.jpg',\n",
       " 'dog.3016.jpg',\n",
       " 'dog.3029.jpg',\n",
       " 'dog.3036.jpg',\n",
       " 'dog.3040.jpg',\n",
       " 'dog.3054.jpg',\n",
       " 'dog.3065.jpg',\n",
       " 'dog.3068.jpg',\n",
       " 'dog.3071.jpg',\n",
       " 'dog.3084.jpg',\n",
       " 'dog.3089.jpg',\n",
       " 'dog.309.jpg',\n",
       " 'dog.3098.jpg',\n",
       " 'dog.310.jpg',\n",
       " 'dog.3110.jpg',\n",
       " 'dog.3112.jpg',\n",
       " 'dog.3119.jpg',\n",
       " 'dog.312.jpg',\n",
       " 'dog.3126.jpg',\n",
       " 'dog.3129.jpg',\n",
       " 'dog.3146.jpg',\n",
       " 'dog.3159.jpg',\n",
       " 'dog.3173.jpg',\n",
       " 'dog.3178.jpg',\n",
       " 'dog.319.jpg',\n",
       " 'dog.3191.jpg',\n",
       " 'dog.3193.jpg',\n",
       " 'dog.3195.jpg',\n",
       " 'dog.3197.jpg',\n",
       " 'dog.3198.jpg',\n",
       " 'dog.320.jpg',\n",
       " 'dog.3202.jpg',\n",
       " 'dog.3203.jpg',\n",
       " 'dog.3225.jpg',\n",
       " 'dog.3228.jpg',\n",
       " 'dog.324.jpg',\n",
       " 'dog.3242.jpg',\n",
       " 'dog.3243.jpg',\n",
       " 'dog.3253.jpg',\n",
       " 'dog.3266.jpg',\n",
       " 'dog.327.jpg',\n",
       " 'dog.3270.jpg',\n",
       " 'dog.3280.jpg',\n",
       " 'dog.3286.jpg',\n",
       " 'dog.3294.jpg',\n",
       " 'dog.3308.jpg',\n",
       " 'dog.3317.jpg',\n",
       " 'dog.333.jpg',\n",
       " 'dog.3332.jpg',\n",
       " 'dog.3349.jpg',\n",
       " 'dog.3363.jpg',\n",
       " 'dog.3367.jpg',\n",
       " 'dog.3373.jpg',\n",
       " 'dog.3375.jpg',\n",
       " 'dog.3386.jpg',\n",
       " 'dog.3394.jpg',\n",
       " 'dog.3397.jpg',\n",
       " 'dog.3404.jpg',\n",
       " 'dog.3427.jpg',\n",
       " 'dog.3429.jpg',\n",
       " 'dog.3436.jpg',\n",
       " 'dog.3442.jpg',\n",
       " 'dog.3443.jpg',\n",
       " 'dog.3450.jpg',\n",
       " 'dog.3465.jpg',\n",
       " 'dog.3472.jpg',\n",
       " 'dog.3484.jpg',\n",
       " 'dog.3489.jpg',\n",
       " 'dog.3516.jpg',\n",
       " 'dog.3528.jpg',\n",
       " 'dog.3543.jpg',\n",
       " 'dog.3545.jpg',\n",
       " 'dog.355.jpg',\n",
       " 'dog.3561.jpg',\n",
       " 'dog.3564.jpg',\n",
       " 'dog.3568.jpg',\n",
       " 'dog.3574.jpg',\n",
       " 'dog.3578.jpg',\n",
       " 'dog.358.jpg',\n",
       " 'dog.3586.jpg',\n",
       " 'dog.3587.jpg',\n",
       " 'dog.359.jpg',\n",
       " 'dog.3604.jpg',\n",
       " 'dog.3609.jpg',\n",
       " 'dog.3621.jpg',\n",
       " 'dog.3630.jpg',\n",
       " 'dog.3634.jpg',\n",
       " 'dog.3649.jpg',\n",
       " 'dog.3650.jpg',\n",
       " 'dog.3653.jpg',\n",
       " 'dog.3674.jpg',\n",
       " 'dog.3681.jpg',\n",
       " 'dog.3682.jpg',\n",
       " 'dog.3699.jpg',\n",
       " 'dog.37.jpg',\n",
       " 'dog.3724.jpg',\n",
       " 'dog.3727.jpg',\n",
       " 'dog.3728.jpg',\n",
       " 'dog.3734.jpg',\n",
       " 'dog.3739.jpg',\n",
       " 'dog.3749.jpg',\n",
       " 'dog.375.jpg',\n",
       " 'dog.3765.jpg',\n",
       " 'dog.3769.jpg',\n",
       " 'dog.3775.jpg',\n",
       " 'dog.3789.jpg',\n",
       " 'dog.3795.jpg',\n",
       " 'dog.3798.jpg',\n",
       " 'dog.3802.jpg',\n",
       " 'dog.3808.jpg',\n",
       " 'dog.3812.jpg',\n",
       " 'dog.3820.jpg',\n",
       " 'dog.3839.jpg',\n",
       " 'dog.3842.jpg',\n",
       " 'dog.3852.jpg',\n",
       " 'dog.3856.jpg',\n",
       " 'dog.3857.jpg',\n",
       " 'dog.3860.jpg',\n",
       " 'dog.3861.jpg',\n",
       " 'dog.3866.jpg',\n",
       " 'dog.3888.jpg',\n",
       " 'dog.3893.jpg',\n",
       " 'dog.3897.jpg',\n",
       " 'dog.3909.jpg',\n",
       " 'dog.3911.jpg',\n",
       " 'dog.3913.jpg',\n",
       " 'dog.392.jpg',\n",
       " 'dog.3931.jpg',\n",
       " 'dog.3938.jpg',\n",
       " 'dog.3952.jpg',\n",
       " 'dog.3965.jpg',\n",
       " 'dog.3970.jpg',\n",
       " 'dog.3972.jpg',\n",
       " 'dog.3990.jpg',\n",
       " 'dog.3999.jpg',\n",
       " 'dog.4.jpg',\n",
       " 'dog.4004.jpg',\n",
       " 'dog.4006.jpg',\n",
       " 'dog.4021.jpg',\n",
       " 'dog.4027.jpg',\n",
       " 'dog.4039.jpg',\n",
       " 'dog.404.jpg',\n",
       " 'dog.4045.jpg',\n",
       " 'dog.4048.jpg',\n",
       " 'dog.4054.jpg',\n",
       " 'dog.4066.jpg',\n",
       " 'dog.4073.jpg',\n",
       " 'dog.41.jpg',\n",
       " 'dog.4106.jpg',\n",
       " 'dog.411.jpg',\n",
       " 'dog.4113.jpg',\n",
       " 'dog.4117.jpg',\n",
       " 'dog.4132.jpg',\n",
       " 'dog.4146.jpg',\n",
       " 'dog.4154.jpg',\n",
       " 'dog.4164.jpg',\n",
       " 'dog.4165.jpg',\n",
       " 'dog.4174.jpg',\n",
       " 'dog.418.jpg',\n",
       " 'dog.4186.jpg',\n",
       " 'dog.4187.jpg',\n",
       " 'dog.4192.jpg',\n",
       " 'dog.4224.jpg',\n",
       " 'dog.4225.jpg',\n",
       " 'dog.4227.jpg',\n",
       " 'dog.4228.jpg',\n",
       " 'dog.423.jpg',\n",
       " 'dog.4233.jpg',\n",
       " 'dog.4236.jpg',\n",
       " 'dog.4239.jpg',\n",
       " 'dog.4246.jpg',\n",
       " 'dog.4250.jpg',\n",
       " 'dog.4252.jpg',\n",
       " 'dog.426.jpg',\n",
       " 'dog.4260.jpg',\n",
       " 'dog.427.jpg',\n",
       " 'dog.4275.jpg',\n",
       " 'dog.4278.jpg',\n",
       " 'dog.429.jpg',\n",
       " 'dog.4307.jpg',\n",
       " 'dog.4312.jpg',\n",
       " 'dog.4317.jpg',\n",
       " 'dog.4324.jpg',\n",
       " 'dog.4332.jpg',\n",
       " 'dog.4365.jpg',\n",
       " 'dog.4367.jpg',\n",
       " 'dog.4382.jpg',\n",
       " 'dog.4383.jpg',\n",
       " 'dog.4385.jpg',\n",
       " 'dog.4387.jpg',\n",
       " 'dog.4392.jpg',\n",
       " 'dog.4393.jpg',\n",
       " 'dog.440.jpg',\n",
       " 'dog.4400.jpg',\n",
       " 'dog.4402.jpg',\n",
       " 'dog.4414.jpg',\n",
       " 'dog.4423.jpg',\n",
       " 'dog.4431.jpg',\n",
       " 'dog.4439.jpg',\n",
       " 'dog.4444.jpg',\n",
       " 'dog.4445.jpg',\n",
       " 'dog.4447.jpg',\n",
       " 'dog.4449.jpg',\n",
       " 'dog.445.jpg',\n",
       " 'dog.447.jpg',\n",
       " 'dog.4475.jpg',\n",
       " 'dog.4477.jpg',\n",
       " 'dog.4482.jpg',\n",
       " 'dog.4484.jpg',\n",
       " 'dog.4485.jpg',\n",
       " 'dog.4486.jpg',\n",
       " 'dog.4490.jpg',\n",
       " 'dog.4501.jpg',\n",
       " 'dog.4510.jpg',\n",
       " 'dog.4512.jpg',\n",
       " 'dog.4516.jpg',\n",
       " 'dog.4529.jpg',\n",
       " 'dog.4532.jpg',\n",
       " 'dog.4555.jpg',\n",
       " 'dog.4560.jpg',\n",
       " 'dog.4565.jpg',\n",
       " 'dog.4571.jpg',\n",
       " 'dog.4573.jpg',\n",
       " 'dog.4594.jpg',\n",
       " 'dog.4604.jpg',\n",
       " 'dog.461.jpg',\n",
       " 'dog.4617.jpg',\n",
       " 'dog.4627.jpg',\n",
       " 'dog.463.jpg',\n",
       " 'dog.4662.jpg',\n",
       " 'dog.4664.jpg',\n",
       " 'dog.4667.jpg',\n",
       " 'dog.4669.jpg',\n",
       " 'dog.4670.jpg',\n",
       " 'dog.4686.jpg',\n",
       " 'dog.4701.jpg',\n",
       " 'dog.4710.jpg',\n",
       " 'dog.4717.jpg',\n",
       " 'dog.473.jpg',\n",
       " 'dog.4730.jpg',\n",
       " 'dog.4748.jpg',\n",
       " 'dog.4760.jpg',\n",
       " 'dog.4778.jpg',\n",
       " 'dog.4785.jpg',\n",
       " 'dog.4790.jpg',\n",
       " 'dog.4802.jpg',\n",
       " 'dog.4804.jpg',\n",
       " 'dog.4805.jpg',\n",
       " 'dog.4817.jpg',\n",
       " 'dog.4823.jpg',\n",
       " 'dog.4829.jpg',\n",
       " 'dog.483.jpg',\n",
       " 'dog.4839.jpg',\n",
       " 'dog.485.jpg',\n",
       " 'dog.4853.jpg',\n",
       " 'dog.4863.jpg',\n",
       " 'dog.4864.jpg',\n",
       " 'dog.4865.jpg',\n",
       " 'dog.4868.jpg',\n",
       " 'dog.487.jpg',\n",
       " 'dog.4871.jpg',\n",
       " 'dog.4878.jpg',\n",
       " 'dog.4880.jpg',\n",
       " 'dog.4882.jpg',\n",
       " 'dog.49.jpg',\n",
       " 'dog.490.jpg',\n",
       " 'dog.4912.jpg',\n",
       " 'dog.492.jpg',\n",
       " 'dog.4921.jpg',\n",
       " 'dog.4926.jpg',\n",
       " 'dog.4931.jpg',\n",
       " 'dog.4940.jpg',\n",
       " 'dog.4967.jpg',\n",
       " 'dog.4968.jpg',\n",
       " 'dog.4970.jpg',\n",
       " 'dog.4997.jpg',\n",
       " 'dog.5014.jpg',\n",
       " 'dog.5018.jpg',\n",
       " 'dog.5046.jpg',\n",
       " 'dog.505.jpg',\n",
       " 'dog.5057.jpg',\n",
       " 'dog.506.jpg',\n",
       " 'dog.5060.jpg',\n",
       " 'dog.5078.jpg',\n",
       " 'dog.508.jpg',\n",
       " 'dog.5081.jpg',\n",
       " 'dog.5084.jpg',\n",
       " 'dog.5086.jpg',\n",
       " 'dog.5096.jpg',\n",
       " 'dog.5102.jpg',\n",
       " 'dog.5108.jpg',\n",
       " 'dog.5111.jpg',\n",
       " 'dog.512.jpg',\n",
       " 'dog.5121.jpg',\n",
       " 'dog.5129.jpg',\n",
       " 'dog.5135.jpg',\n",
       " 'dog.5140.jpg',\n",
       " 'dog.5142.jpg',\n",
       " 'dog.5144.jpg',\n",
       " 'dog.5196.jpg',\n",
       " 'dog.5200.jpg',\n",
       " 'dog.521.jpg',\n",
       " 'dog.5215.jpg',\n",
       " 'dog.5216.jpg',\n",
       " 'dog.522.jpg',\n",
       " 'dog.5220.jpg',\n",
       " 'dog.5224.jpg',\n",
       " 'dog.5236.jpg',\n",
       " 'dog.524.jpg',\n",
       " 'dog.5257.jpg',\n",
       " 'dog.5282.jpg',\n",
       " 'dog.5289.jpg',\n",
       " 'dog.5290.jpg',\n",
       " 'dog.5295.jpg',\n",
       " 'dog.5301.jpg',\n",
       " 'dog.5333.jpg',\n",
       " 'dog.5346.jpg',\n",
       " 'dog.5351.jpg',\n",
       " 'dog.5352.jpg',\n",
       " 'dog.5357.jpg',\n",
       " 'dog.5361.jpg',\n",
       " 'dog.5365.jpg',\n",
       " 'dog.5370.jpg',\n",
       " 'dog.5382.jpg',\n",
       " 'dog.5387.jpg',\n",
       " 'dog.5390.jpg',\n",
       " 'dog.5393.jpg',\n",
       " 'dog.5397.jpg',\n",
       " 'dog.5399.jpg',\n",
       " 'dog.5406.jpg',\n",
       " 'dog.5412.jpg',\n",
       " 'dog.5421.jpg',\n",
       " 'dog.5433.jpg',\n",
       " 'dog.5445.jpg',\n",
       " 'dog.5448.jpg',\n",
       " 'dog.5480.jpg',\n",
       " 'dog.5494.jpg',\n",
       " 'dog.5507.jpg',\n",
       " 'dog.5516.jpg',\n",
       " 'dog.5527.jpg',\n",
       " 'dog.5530.jpg',\n",
       " 'dog.5544.jpg',\n",
       " 'dog.5547.jpg',\n",
       " 'dog.5559.jpg',\n",
       " 'dog.556.jpg',\n",
       " 'dog.5565.jpg',\n",
       " 'dog.5567.jpg',\n",
       " 'dog.5570.jpg',\n",
       " 'dog.5586.jpg',\n",
       " 'dog.5587.jpg',\n",
       " 'dog.559.jpg',\n",
       " 'dog.5594.jpg',\n",
       " 'dog.5601.jpg',\n",
       " 'dog.5606.jpg',\n",
       " 'dog.5610.jpg',\n",
       " 'dog.5622.jpg',\n",
       " 'dog.563.jpg',\n",
       " 'dog.5636.jpg',\n",
       " 'dog.5647.jpg',\n",
       " 'dog.5653.jpg',\n",
       " 'dog.5689.jpg',\n",
       " 'dog.5698.jpg',\n",
       " 'dog.5704.jpg',\n",
       " 'dog.5711.jpg',\n",
       " 'dog.5714.jpg',\n",
       " 'dog.5720.jpg',\n",
       " 'dog.5741.jpg',\n",
       " 'dog.5742.jpg',\n",
       " 'dog.5748.jpg',\n",
       " 'dog.5758.jpg',\n",
       " 'dog.5769.jpg',\n",
       " 'dog.577.jpg',\n",
       " 'dog.5778.jpg',\n",
       " 'dog.5779.jpg',\n",
       " 'dog.5780.jpg',\n",
       " 'dog.5788.jpg',\n",
       " 'dog.5790.jpg',\n",
       " 'dog.5799.jpg',\n",
       " 'dog.5801.jpg',\n",
       " 'dog.5803.jpg',\n",
       " 'dog.5804.jpg',\n",
       " 'dog.5809.jpg',\n",
       " 'dog.5810.jpg',\n",
       " 'dog.5819.jpg',\n",
       " 'dog.5834.jpg',\n",
       " 'dog.5838.jpg',\n",
       " 'dog.5843.jpg',\n",
       " 'dog.5870.jpg',\n",
       " 'dog.5883.jpg',\n",
       " 'dog.5887.jpg',\n",
       " 'dog.5890.jpg',\n",
       " 'dog.5897.jpg',\n",
       " 'dog.5936.jpg',\n",
       " 'dog.5941.jpg',\n",
       " 'dog.5949.jpg',\n",
       " 'dog.5956.jpg',\n",
       " 'dog.596.jpg',\n",
       " 'dog.5967.jpg',\n",
       " 'dog.5983.jpg',\n",
       " 'dog.5988.jpg',\n",
       " 'dog.599.jpg',\n",
       " 'dog.6.jpg',\n",
       " 'dog.600.jpg',\n",
       " 'dog.6000.jpg',\n",
       " 'dog.6012.jpg',\n",
       " 'dog.6013.jpg',\n",
       " 'dog.6031.jpg',\n",
       " 'dog.6037.jpg',\n",
       " 'dog.6041.jpg',\n",
       " 'dog.6065.jpg',\n",
       " 'dog.607.jpg',\n",
       " 'dog.6075.jpg',\n",
       " 'dog.6082.jpg',\n",
       " 'dog.6083.jpg',\n",
       " 'dog.6085.jpg',\n",
       " 'dog.6096.jpg',\n",
       " 'dog.61.jpg',\n",
       " 'dog.6117.jpg',\n",
       " 'dog.6126.jpg',\n",
       " 'dog.6128.jpg',\n",
       " 'dog.6130.jpg',\n",
       " 'dog.6136.jpg',\n",
       " 'dog.6139.jpg',\n",
       " 'dog.6144.jpg',\n",
       " 'dog.6158.jpg',\n",
       " 'dog.6168.jpg',\n",
       " 'dog.6173.jpg',\n",
       " 'dog.6177.jpg',\n",
       " 'dog.6191.jpg',\n",
       " 'dog.6193.jpg',\n",
       " 'dog.6200.jpg',\n",
       " 'dog.6216.jpg',\n",
       " 'dog.6217.jpg',\n",
       " 'dog.6231.jpg',\n",
       " 'dog.624.jpg',\n",
       " 'dog.625.jpg',\n",
       " 'dog.626.jpg',\n",
       " 'dog.6267.jpg',\n",
       " 'dog.6268.jpg',\n",
       " 'dog.6272.jpg',\n",
       " 'dog.6296.jpg',\n",
       " 'dog.6299.jpg',\n",
       " 'dog.6300.jpg',\n",
       " 'dog.6302.jpg',\n",
       " 'dog.6303.jpg',\n",
       " 'dog.6305.jpg',\n",
       " 'dog.6308.jpg',\n",
       " 'dog.6322.jpg',\n",
       " 'dog.6324.jpg',\n",
       " 'dog.6330.jpg',\n",
       " 'dog.6336.jpg',\n",
       " 'dog.6337.jpg',\n",
       " 'dog.6344.jpg',\n",
       " 'dog.636.jpg',\n",
       " 'dog.6361.jpg',\n",
       " 'dog.6367.jpg',\n",
       " 'dog.6368.jpg',\n",
       " 'dog.6371.jpg',\n",
       " 'dog.6374.jpg',\n",
       " 'dog.6382.jpg',\n",
       " 'dog.6384.jpg',\n",
       " 'dog.6387.jpg',\n",
       " 'dog.6395.jpg',\n",
       " 'dog.6399.jpg',\n",
       " 'dog.64.jpg',\n",
       " 'dog.6407.jpg',\n",
       " 'dog.641.jpg',\n",
       " 'dog.6423.jpg',\n",
       " 'dog.6428.jpg',\n",
       " 'dog.6434.jpg',\n",
       " 'dog.6435.jpg',\n",
       " 'dog.6436.jpg',\n",
       " 'dog.6463.jpg',\n",
       " 'dog.6467.jpg',\n",
       " 'dog.6481.jpg',\n",
       " ...]"
      ]
     },
     "execution_count": 4,
     "metadata": {},
     "output_type": "execute_result"
    }
   ],
   "source": [
    "# 현재 내 노트북 아래 폴더 확인\n",
    "os.listdir('./data/sample/dog')"
   ]
  },
  {
   "cell_type": "markdown",
   "metadata": {},
   "source": [
    "#### 폴더 압축파일 해제\n",
    "- /kaggle/input/dogs-vs-cats/test1.zip\n",
    "- /kaggle/input/dogs-vs-cats/train.zip"
   ]
  },
  {
   "cell_type": "code",
   "execution_count": 5,
   "metadata": {
    "execution": {
     "iopub.execute_input": "2025-04-16T06:22:12.885951Z",
     "iopub.status.busy": "2025-04-16T06:22:12.885534Z",
     "iopub.status.idle": "2025-04-16T06:22:20.161316Z",
     "shell.execute_reply": "2025-04-16T06:22:20.160628Z",
     "shell.execute_reply.started": "2025-04-16T06:22:12.885925Z"
    },
    "trusted": true
   },
   "outputs": [
    {
     "ename": "FileNotFoundError",
     "evalue": "[Errno 2] No such file or directory: '/kaggle/input/dogs-vs-cats/train.zip'",
     "output_type": "error",
     "traceback": [
      "\u001b[31m---------------------------------------------------------------------------\u001b[39m",
      "\u001b[31mFileNotFoundError\u001b[39m                         Traceback (most recent call last)",
      "\u001b[36mCell\u001b[39m\u001b[36m \u001b[39m\u001b[32mIn[5]\u001b[39m\u001b[32m, line 4\u001b[39m\n\u001b[32m      1\u001b[39m zip_path = \u001b[33m'\u001b[39m\u001b[33m/kaggle/input/dogs-vs-cats/train.zip\u001b[39m\u001b[33m'\u001b[39m\n\u001b[32m      2\u001b[39m target_path = \u001b[33m'\u001b[39m\u001b[33m/kaggle/working/train\u001b[39m\u001b[33m'\u001b[39m\n\u001b[32m----> \u001b[39m\u001b[32m4\u001b[39m \u001b[38;5;28;01mwith\u001b[39;00m \u001b[43mzipfile\u001b[49m\u001b[43m.\u001b[49m\u001b[43mZipFile\u001b[49m\u001b[43m(\u001b[49m\u001b[43mzip_path\u001b[49m\u001b[43m,\u001b[49m\u001b[43m \u001b[49m\u001b[33;43m'\u001b[39;49m\u001b[33;43mr\u001b[39;49m\u001b[33;43m'\u001b[39;49m\u001b[43m)\u001b[49m \u001b[38;5;28;01mas\u001b[39;00m zip_ref:\n\u001b[32m      5\u001b[39m     zip_ref.extractall(target_path)\n\u001b[32m      7\u001b[39m \u001b[38;5;28mprint\u001b[39m(\u001b[33m'\u001b[39m\u001b[33mdone with extraction\u001b[39m\u001b[33m'\u001b[39m)\n",
      "\u001b[36mFile \u001b[39m\u001b[32m~\\.pyenv\\pyenv-win\\versions\\3.11.9\\Lib\\zipfile.py:1294\u001b[39m, in \u001b[36mZipFile.__init__\u001b[39m\u001b[34m(self, file, mode, compression, allowZip64, compresslevel, strict_timestamps, metadata_encoding)\u001b[39m\n\u001b[32m   1292\u001b[39m \u001b[38;5;28;01mwhile\u001b[39;00m \u001b[38;5;28;01mTrue\u001b[39;00m:\n\u001b[32m   1293\u001b[39m     \u001b[38;5;28;01mtry\u001b[39;00m:\n\u001b[32m-> \u001b[39m\u001b[32m1294\u001b[39m         \u001b[38;5;28mself\u001b[39m.fp = \u001b[43mio\u001b[49m\u001b[43m.\u001b[49m\u001b[43mopen\u001b[49m\u001b[43m(\u001b[49m\u001b[43mfile\u001b[49m\u001b[43m,\u001b[49m\u001b[43m \u001b[49m\u001b[43mfilemode\u001b[49m\u001b[43m)\u001b[49m\n\u001b[32m   1295\u001b[39m     \u001b[38;5;28;01mexcept\u001b[39;00m \u001b[38;5;167;01mOSError\u001b[39;00m:\n\u001b[32m   1296\u001b[39m         \u001b[38;5;28;01mif\u001b[39;00m filemode \u001b[38;5;129;01min\u001b[39;00m modeDict:\n",
      "\u001b[31mFileNotFoundError\u001b[39m: [Errno 2] No such file or directory: '/kaggle/input/dogs-vs-cats/train.zip'"
     ]
    }
   ],
   "source": [
    "zip_path = '/kaggle/input/dogs-vs-cats/train.zip'\n",
    "target_path = '/kaggle/working/train'\n",
    "\n",
    "with zipfile.ZipFile(zip_path, 'r') as zip_ref:\n",
    "    zip_ref.extractall(target_path)\n",
    "\n",
    "print('done with extraction')"
   ]
  },
  {
   "cell_type": "code",
   "execution_count": null,
   "metadata": {
    "execution": {
     "iopub.execute_input": "2025-04-16T06:50:25.109203Z",
     "iopub.status.busy": "2025-04-16T06:50:25.108891Z",
     "iopub.status.idle": "2025-04-16T06:50:31.403266Z",
     "shell.execute_reply": "2025-04-16T06:50:31.402393Z",
     "shell.execute_reply.started": "2025-04-16T06:50:25.109180Z"
    },
    "trusted": true
   },
   "outputs": [],
   "source": [
    "## test1.zip \n",
    "zip_path = '/kaggle/input/dogs-vs-cats/test1.zip'\n",
    "target_path = '/kaggle/working'\n",
    "\n",
    "with zipfile.ZipFile(zip_path, 'r') as zip_ref:\n",
    "    zip_ref.extractall(target_path)\n",
    "\n",
    "print('done with extraction')"
   ]
  },
  {
   "cell_type": "code",
   "execution_count": null,
   "metadata": {
    "execution": {
     "iopub.execute_input": "2025-04-16T06:23:33.816044Z",
     "iopub.status.busy": "2025-04-16T06:23:33.815304Z",
     "iopub.status.idle": "2025-04-16T06:23:33.820905Z",
     "shell.execute_reply": "2025-04-16T06:23:33.820236Z",
     "shell.execute_reply.started": "2025-04-16T06:23:33.816019Z"
    },
    "trusted": true
   },
   "outputs": [],
   "source": [
    "target_path"
   ]
  },
  {
   "cell_type": "code",
   "execution_count": null,
   "metadata": {
    "execution": {
     "iopub.execute_input": "2025-04-16T06:22:54.178462Z",
     "iopub.status.busy": "2025-04-16T06:22:54.177683Z",
     "iopub.status.idle": "2025-04-16T06:22:54.184230Z",
     "shell.execute_reply": "2025-04-16T06:22:54.183444Z",
     "shell.execute_reply.started": "2025-04-16T06:22:54.178433Z"
    },
    "trusted": true
   },
   "outputs": [],
   "source": [
    "image_files = os.listdir(target_path)\n",
    "len(image_files)"
   ]
  },
  {
   "cell_type": "code",
   "execution_count": null,
   "metadata": {
    "execution": {
     "iopub.execute_input": "2025-04-16T06:25:00.087281Z",
     "iopub.status.busy": "2025-04-16T06:25:00.086974Z",
     "iopub.status.idle": "2025-04-16T06:25:00.107826Z",
     "shell.execute_reply": "2025-04-16T06:25:00.107139Z",
     "shell.execute_reply.started": "2025-04-16T06:25:00.087259Z"
    },
    "trusted": true
   },
   "outputs": [],
   "source": [
    "len( os.listdir(target_path + '/train'))"
   ]
  },
  {
   "cell_type": "code",
   "execution_count": null,
   "metadata": {
    "execution": {
     "iopub.execute_input": "2025-04-16T06:51:10.278434Z",
     "iopub.status.busy": "2025-04-16T06:51:10.278130Z",
     "iopub.status.idle": "2025-04-16T06:51:10.291044Z",
     "shell.execute_reply": "2025-04-16T06:51:10.290281Z",
     "shell.execute_reply.started": "2025-04-16T06:51:10.278412Z"
    },
    "trusted": true
   },
   "outputs": [],
   "source": [
    "len(os.listdir('/kaggle/working/test1'))"
   ]
  },
  {
   "cell_type": "code",
   "execution_count": null,
   "metadata": {
    "execution": {
     "iopub.execute_input": "2025-04-16T06:28:53.873251Z",
     "iopub.status.busy": "2025-04-16T06:28:53.872479Z",
     "iopub.status.idle": "2025-04-16T06:28:53.878875Z",
     "shell.execute_reply": "2025-04-16T06:28:53.878218Z",
     "shell.execute_reply.started": "2025-04-16T06:28:53.873219Z"
    },
    "trusted": true
   },
   "outputs": [],
   "source": [
    "len(os.listdir('./data/sample/dog'))"
   ]
  },
  {
   "cell_type": "code",
   "execution_count": null,
   "metadata": {
    "execution": {
     "iopub.execute_input": "2025-04-16T06:28:58.915335Z",
     "iopub.status.busy": "2025-04-16T06:28:58.915037Z",
     "iopub.status.idle": "2025-04-16T06:28:58.921276Z",
     "shell.execute_reply": "2025-04-16T06:28:58.920604Z",
     "shell.execute_reply.started": "2025-04-16T06:28:58.915311Z"
    },
    "trusted": true
   },
   "outputs": [],
   "source": [
    "len(os.listdir('./data/sample/cat'))"
   ]
  },
  {
   "cell_type": "markdown",
   "metadata": {},
   "source": [
    "### 여기서 부터는 로컬 작업과 일치"
   ]
  },
  {
   "cell_type": "code",
   "execution_count": null,
   "metadata": {
    "execution": {
     "iopub.execute_input": "2025-04-16T06:27:30.637681Z",
     "iopub.status.busy": "2025-04-16T06:27:30.637085Z",
     "iopub.status.idle": "2025-04-16T06:27:30.642963Z",
     "shell.execute_reply": "2025-04-16T06:27:30.642047Z",
     "shell.execute_reply.started": "2025-04-16T06:27:30.637656Z"
    },
    "trusted": true
   },
   "outputs": [],
   "source": [
    "# 500개씩 샘플링 함수\n",
    "def sample_data(src_dir, dst_dir, num_samples=500):\n",
    "    os.makedirs(dst_dir, exist_ok=True)  # 폴더 생성, exist_ok=True 이미 존재하면 다시 만들지 않음\n",
    "    all_files = [f for f in os.listdir(src_dir) if f.startswith(dst_dir.split('/')[-1])]\n",
    "    samples = random.sample(all_files, num_samples)\n",
    "    for f in samples:\n",
    "        shutil.copy(os.path.join(src_dir, f), os.path.join(dst_dir, f))"
   ]
  },
  {
   "cell_type": "markdown",
   "metadata": {},
   "source": [
    "#### 아래 경로만 캐글에 맞게 변경할 것"
   ]
  },
  {
   "cell_type": "code",
   "execution_count": null,
   "metadata": {
    "execution": {
     "iopub.execute_input": "2025-04-16T06:28:28.753465Z",
     "iopub.status.busy": "2025-04-16T06:28:28.753169Z",
     "iopub.status.idle": "2025-04-16T06:28:28.933654Z",
     "shell.execute_reply": "2025-04-16T06:28:28.933090Z",
     "shell.execute_reply.started": "2025-04-16T06:28:28.753441Z"
    },
    "trusted": true
   },
   "outputs": [],
   "source": [
    "# sample_data() 함수 사용\n",
    "sample_data(target_path + '/train', './data/sample/cat', 500)\n",
    "sample_data(target_path + '/train', './data/sample/dog', 500)"
   ]
  },
  {
   "cell_type": "code",
   "execution_count": null,
   "metadata": {
    "execution": {
     "iopub.execute_input": "2025-04-16T06:29:14.196613Z",
     "iopub.status.busy": "2025-04-16T06:29:14.196347Z",
     "iopub.status.idle": "2025-04-16T06:29:14.201227Z",
     "shell.execute_reply": "2025-04-16T06:29:14.200285Z",
     "shell.execute_reply.started": "2025-04-16T06:29:14.196593Z"
    },
    "trusted": true
   },
   "outputs": [],
   "source": [
    "# 파이토치 모듈 로드\n",
    "from torchvision.datasets import ImageFolder\n",
    "from torchvision import transforms\n",
    "from torch.utils.data import Dataset, DataLoader"
   ]
  },
  {
   "cell_type": "code",
   "execution_count": null,
   "metadata": {
    "execution": {
     "iopub.execute_input": "2025-04-16T06:29:22.084018Z",
     "iopub.status.busy": "2025-04-16T06:29:22.083671Z",
     "iopub.status.idle": "2025-04-16T06:29:22.088428Z",
     "shell.execute_reply": "2025-04-16T06:29:22.087700Z",
     "shell.execute_reply.started": "2025-04-16T06:29:22.083994Z"
    },
    "trusted": true
   },
   "outputs": [],
   "source": [
    "transform = transforms.Compose([\n",
    "    transforms.Resize((128, 128)),\n",
    "    transforms.ToTensor()\n",
    "])"
   ]
  },
  {
   "cell_type": "code",
   "execution_count": null,
   "metadata": {
    "execution": {
     "iopub.execute_input": "2025-04-16T06:29:45.304405Z",
     "iopub.status.busy": "2025-04-16T06:29:45.303627Z",
     "iopub.status.idle": "2025-04-16T06:29:45.312472Z",
     "shell.execute_reply": "2025-04-16T06:29:45.311834Z",
     "shell.execute_reply.started": "2025-04-16T06:29:45.304379Z"
    },
    "trusted": true
   },
   "outputs": [],
   "source": [
    "train_dataset = ImageFolder('./data/sample', transform=transform)\n",
    "train_loader = DataLoader(train_dataset, batch_size=32, shuffle=True)"
   ]
  },
  {
   "cell_type": "code",
   "execution_count": null,
   "metadata": {
    "execution": {
     "iopub.execute_input": "2025-04-16T06:29:53.108393Z",
     "iopub.status.busy": "2025-04-16T06:29:53.108116Z",
     "iopub.status.idle": "2025-04-16T06:29:53.114498Z",
     "shell.execute_reply": "2025-04-16T06:29:53.113079Z",
     "shell.execute_reply.started": "2025-04-16T06:29:53.108373Z"
    },
    "trusted": true
   },
   "outputs": [],
   "source": [
    "len(train_loader)"
   ]
  },
  {
   "cell_type": "code",
   "execution_count": null,
   "metadata": {
    "execution": {
     "iopub.execute_input": "2025-04-16T06:30:39.863303Z",
     "iopub.status.busy": "2025-04-16T06:30:39.863006Z",
     "iopub.status.idle": "2025-04-16T06:30:40.180102Z",
     "shell.execute_reply": "2025-04-16T06:30:40.179172Z",
     "shell.execute_reply.started": "2025-04-16T06:30:39.863280Z"
    },
    "trusted": true
   },
   "outputs": [],
   "source": [
    "# 배치하나 꺼내기\n",
    "images, labels = next(iter(train_loader))"
   ]
  },
  {
   "cell_type": "code",
   "execution_count": null,
   "metadata": {
    "execution": {
     "iopub.execute_input": "2025-04-16T06:30:47.455089Z",
     "iopub.status.busy": "2025-04-16T06:30:47.454719Z",
     "iopub.status.idle": "2025-04-16T06:30:47.464666Z",
     "shell.execute_reply": "2025-04-16T06:30:47.463682Z",
     "shell.execute_reply.started": "2025-04-16T06:30:47.455065Z"
    },
    "trusted": true
   },
   "outputs": [],
   "source": [
    "images[0].shape"
   ]
  },
  {
   "cell_type": "code",
   "execution_count": null,
   "metadata": {
    "execution": {
     "iopub.execute_input": "2025-04-16T06:30:57.913276Z",
     "iopub.status.busy": "2025-04-16T06:30:57.912497Z",
     "iopub.status.idle": "2025-04-16T06:30:57.916917Z",
     "shell.execute_reply": "2025-04-16T06:30:57.916122Z",
     "shell.execute_reply.started": "2025-04-16T06:30:57.913246Z"
    },
    "trusted": true
   },
   "outputs": [],
   "source": [
    "class_names = ['cat', 'dog']"
   ]
  },
  {
   "cell_type": "code",
   "execution_count": null,
   "metadata": {
    "execution": {
     "iopub.execute_input": "2025-04-16T06:31:04.585161Z",
     "iopub.status.busy": "2025-04-16T06:31:04.584827Z",
     "iopub.status.idle": "2025-04-16T06:31:05.831679Z",
     "shell.execute_reply": "2025-04-16T06:31:05.830700Z",
     "shell.execute_reply.started": "2025-04-16T06:31:04.585137Z"
    },
    "trusted": true
   },
   "outputs": [],
   "source": [
    "# 시각화\n",
    "plt.figure(figsize=(12, 4))\n",
    "for i in range(16): # 32개 중 반만 표현\n",
    "    plt.subplot(2, 8, i+1)\n",
    "\n",
    "    img = images[i].permute(1, 2, 0)  # 컬러채널이기 때문에 matplotlib 표현시 순서 변경\n",
    "    plt.imshow(img)\n",
    "    plt.title(f'{class_names[labels[i].item()]}')\n",
    "    plt.axis('off')\n",
    "\n",
    "plt.tight_layout()\n",
    "plt.show()"
   ]
  },
  {
   "cell_type": "markdown",
   "metadata": {},
   "source": [
    "### CNN Model"
   ]
  },
  {
   "cell_type": "code",
   "execution_count": null,
   "metadata": {
    "execution": {
     "iopub.execute_input": "2025-04-16T06:42:05.532468Z",
     "iopub.status.busy": "2025-04-16T06:42:05.532185Z",
     "iopub.status.idle": "2025-04-16T06:42:05.536997Z",
     "shell.execute_reply": "2025-04-16T06:42:05.536219Z",
     "shell.execute_reply.started": "2025-04-16T06:42:05.532448Z"
    },
    "trusted": true
   },
   "outputs": [],
   "source": [
    "# 사용모듈 로드\n",
    "import torch\n",
    "import torch.nn as nn\n",
    "import torch.nn.functional as F"
   ]
  },
  {
   "cell_type": "code",
   "execution_count": null,
   "metadata": {
    "execution": {
     "iopub.execute_input": "2025-04-16T06:42:17.596632Z",
     "iopub.status.busy": "2025-04-16T06:42:17.596299Z",
     "iopub.status.idle": "2025-04-16T06:42:17.604427Z",
     "shell.execute_reply": "2025-04-16T06:42:17.603289Z",
     "shell.execute_reply.started": "2025-04-16T06:42:17.596604Z"
    },
    "trusted": true
   },
   "outputs": [],
   "source": [
    "# 클래스 정의\n",
    "class CatDogCNN(nn.Module):\n",
    "    def __init__(self):\n",
    "        super(CatDogCNN, self).__init__()\n",
    "        self.conv1 = nn.Conv2d(3, 32, kernel_size=3, padding=1)\n",
    "        self.pool = nn.MaxPool2d(2, 2)  # conv1, conv2 모두 사용\n",
    "        self.conv2 = nn.Conv2d(32, 64, kernel_size=3, padding=1)\n",
    "        self.fc1 = nn.Linear(64 * 32 * 32, 128) # MaxPool(128) -> MaxPool(64) -> 32x32 \n",
    "        self.fc2 = nn.Linear(128, 1)  # 마지막 분류가 0, 1 \n",
    "\n",
    "    def forward(self, x):\n",
    "        # conv -> activation -> maxpooling 2회실시\n",
    "        # dense1, 2 통과\n",
    "        x = self.pool(F.relu(self.conv1(x)))\n",
    "        x = self.pool(F.relu(self.conv2(x)))        \n",
    "        x = x.view(-1, 64 * 32 * 32)                # flattern -> 1차원 배열화, 65,536개 입력\n",
    "        x = F.relu(self.fc1(x))\n",
    "        x = torch.sigmoid(self.fc2(x))              # F.sigmoid() deprecated\n",
    "        return x"
   ]
  },
  {
   "cell_type": "markdown",
   "metadata": {},
   "source": [
    "### Train"
   ]
  },
  {
   "cell_type": "code",
   "execution_count": null,
   "metadata": {
    "execution": {
     "iopub.execute_input": "2025-04-16T06:42:34.828634Z",
     "iopub.status.busy": "2025-04-16T06:42:34.828323Z",
     "iopub.status.idle": "2025-04-16T06:42:34.934420Z",
     "shell.execute_reply": "2025-04-16T06:42:34.933668Z",
     "shell.execute_reply.started": "2025-04-16T06:42:34.828609Z"
    },
    "trusted": true
   },
   "outputs": [],
   "source": [
    "# cuda 준비\n",
    "device = torch.device('cuda' if torch.cuda.is_available() else 'cpu')\n",
    "model = CatDogCNN().to(device)\n",
    "criterion = nn.BCELoss()  # Binary Cross Entropy 손실함수\n",
    "optimizer = torch.optim.Adam(model.parameters(), lr=0.001)"
   ]
  },
  {
   "cell_type": "code",
   "execution_count": null,
   "metadata": {
    "execution": {
     "iopub.execute_input": "2025-04-16T06:42:41.996305Z",
     "iopub.status.busy": "2025-04-16T06:42:41.996010Z",
     "iopub.status.idle": "2025-04-16T06:42:42.001986Z",
     "shell.execute_reply": "2025-04-16T06:42:42.001278Z",
     "shell.execute_reply.started": "2025-04-16T06:42:41.996282Z"
    },
    "trusted": true
   },
   "outputs": [],
   "source": [
    "device"
   ]
  },
  {
   "cell_type": "code",
   "execution_count": null,
   "metadata": {
    "execution": {
     "iopub.execute_input": "2025-04-16T06:43:04.461961Z",
     "iopub.status.busy": "2025-04-16T06:43:04.461584Z",
     "iopub.status.idle": "2025-04-16T06:43:04.467990Z",
     "shell.execute_reply": "2025-04-16T06:43:04.466802Z",
     "shell.execute_reply.started": "2025-04-16T06:43:04.461934Z"
    },
    "trusted": true
   },
   "outputs": [],
   "source": [
    "# 훈련함수 정의\n",
    "def train(model, loader, criterion, optimizer):\n",
    "    model.train()  # 훈련모드\n",
    "    total_loss = 0\n",
    "\n",
    "    for images, labels in loader:\n",
    "        images, labels = images.to(device), labels.float().to(device).unsqueeze(1)  # 1, 0 -> [1,], [0,]\n",
    "        optimizer.zero_grad()\n",
    "        outputs = model(images)\n",
    "        loss = criterion(outputs, labels)\n",
    "        loss.backward()\n",
    "        optimizer.step()        \n",
    "        total_loss += loss.item()\n",
    "\n",
    "    return total_loss / len(loader)"
   ]
  },
  {
   "cell_type": "code",
   "execution_count": null,
   "metadata": {
    "execution": {
     "iopub.execute_input": "2025-04-16T06:43:15.758163Z",
     "iopub.status.busy": "2025-04-16T06:43:15.757855Z",
     "iopub.status.idle": "2025-04-16T06:47:43.143163Z",
     "shell.execute_reply": "2025-04-16T06:47:43.142184Z",
     "shell.execute_reply.started": "2025-04-16T06:43:15.758141Z"
    },
    "trusted": true
   },
   "outputs": [],
   "source": [
    "# 훈련\n",
    "EPOCH = 10\n",
    "for epoch in range(EPOCH):\n",
    "    loss = train(model, train_loader, criterion, optimizer)\n",
    "    print(f'[{epoch+1}/{EPOCH}] Loss: {loss:.4f}')"
   ]
  },
  {
   "cell_type": "code",
   "execution_count": null,
   "metadata": {
    "execution": {
     "iopub.execute_input": "2025-04-16T06:48:43.206102Z",
     "iopub.status.busy": "2025-04-16T06:48:43.205339Z",
     "iopub.status.idle": "2025-04-16T06:48:44.671206Z",
     "shell.execute_reply": "2025-04-16T06:48:44.670194Z",
     "shell.execute_reply.started": "2025-04-16T06:48:43.206066Z"
    },
    "trusted": true
   },
   "outputs": [],
   "source": [
    "# 검증\n",
    "model.eval()\n",
    "images, labels = next(iter(train_loader))\n",
    "images = images.to(device) \n",
    "with torch.no_grad():\n",
    "    outputs = model(images)\n",
    "    preds = (outputs > 0.5).int().cpu().squeeze()\n",
    "\n",
    "plt.figure(figsize=(12, 4))\n",
    "for i in range(16):\n",
    "    plt.subplot(2, 8, i+1)\n",
    "    plt.imshow(images[i].cpu().permute(1, 2, 0))\n",
    "    pred_label = 'dog' if preds[i] == 1 else 'cat'\n",
    "    true_label = 'dog' if labels[i] == 1 else 'cat'\n",
    "    color = 'green' if pred_label == true_label else 'red'\n",
    "    plt.title(f'Pred : {pred_label}\\nTrue : {true_label}', color=color)\n",
    "    plt.axis('off')\n",
    "\n",
    "plt.tight_layout()\n",
    "plt.show()"
   ]
  },
  {
   "cell_type": "markdown",
   "metadata": {},
   "source": [
    "#### 캐글 경로 주의!"
   ]
  },
  {
   "cell_type": "code",
   "execution_count": null,
   "metadata": {
    "execution": {
     "iopub.execute_input": "2025-04-16T06:52:18.490516Z",
     "iopub.status.busy": "2025-04-16T06:52:18.489718Z",
     "iopub.status.idle": "2025-04-16T06:52:18.505402Z",
     "shell.execute_reply": "2025-04-16T06:52:18.504352Z",
     "shell.execute_reply.started": "2025-04-16T06:52:18.490488Z"
    },
    "trusted": true
   },
   "outputs": [],
   "source": [
    "test_dir = '/kaggle/working/test1'\n",
    "image_files = [f for f in os.listdir(test_dir) if f.endswith(('.jpg', '.png'))]\n",
    "len(image_files)"
   ]
  },
  {
   "cell_type": "code",
   "execution_count": null,
   "metadata": {
    "execution": {
     "iopub.execute_input": "2025-04-16T06:52:32.267600Z",
     "iopub.status.busy": "2025-04-16T06:52:32.267302Z",
     "iopub.status.idle": "2025-04-16T06:52:34.259825Z",
     "shell.execute_reply": "2025-04-16T06:52:34.258832Z",
     "shell.execute_reply.started": "2025-04-16T06:52:32.267577Z"
    },
    "trusted": true
   },
   "outputs": [],
   "source": [
    "# 예측과 시각화 동시\n",
    "plt.figure(figsize=(12, 12))\n",
    "for i, fname in enumerate(image_files[0:16]):  # 최대 16장까지 출력 0:16, 16:32, 32:48\n",
    "    img_path = os.path.join(test_dir, fname)\n",
    "    img = Image.open(img_path).convert('RGB')\n",
    "    img_tensor = transform(img).unsqueeze(0).to(device)\n",
    "\n",
    "    with torch.no_grad():\n",
    "        output = model(img_tensor)\n",
    "        pred = 'Dog' if output.item() > 0.5 else 'Cat'\n",
    "\n",
    "    # 이미지 출력\n",
    "    plt.subplot(4, 4, i + 1)\n",
    "    plt.imshow(img)\n",
    "    plt.title(f'{pred}\\n({fname})', fontsize=10)\n",
    "    plt.axis('off')\n",
    "\n",
    "plt.tight_layout()\n",
    "plt.show()"
   ]
  },
  {
   "cell_type": "markdown",
   "metadata": {},
   "source": [
    "### making Submission.csv \n",
    "\n",
    "- 캐글에 맞춰서 추가 작성할 것"
   ]
  },
  {
   "cell_type": "code",
   "execution_count": null,
   "metadata": {
    "execution": {
     "iopub.execute_input": "2025-04-16T06:55:32.357013Z",
     "iopub.status.busy": "2025-04-16T06:55:32.356659Z",
     "iopub.status.idle": "2025-04-16T06:55:32.362307Z",
     "shell.execute_reply": "2025-04-16T06:55:32.361407Z",
     "shell.execute_reply.started": "2025-04-16T06:55:32.356979Z"
    },
    "trusted": true
   },
   "outputs": [],
   "source": [
    "test_dir = '/kaggle/working/test1'\n",
    "\n",
    "test_transform = transforms.Compose([\n",
    "    transforms.Resize((128, 128)),\n",
    "    transforms.ToTensor(),\n",
    "    transforms.Normalize((0.5,), (0.5,))\n",
    "])"
   ]
  },
  {
   "cell_type": "code",
   "execution_count": null,
   "metadata": {
    "execution": {
     "iopub.execute_input": "2025-04-16T06:56:03.765882Z",
     "iopub.status.busy": "2025-04-16T06:56:03.765552Z",
     "iopub.status.idle": "2025-04-16T06:56:03.772942Z",
     "shell.execute_reply": "2025-04-16T06:56:03.772215Z",
     "shell.execute_reply.started": "2025-04-16T06:56:03.765857Z"
    },
    "trusted": true
   },
   "outputs": [],
   "source": [
    "class TestDataset(torch.utils.data.Dataset):\n",
    "    def __init__(self, path, transform):\n",
    "        self.path = path\n",
    "        self.files = sorted([f for f in os.listdir(path) if f.endswith('.jpg')],\n",
    "                            key=lambda x: int(x.split('.')[0]))\n",
    "        self.transform = transform\n",
    "\n",
    "    def __len__(self):\n",
    "        return len(self.files)\n",
    "\n",
    "    def __getitem__(self, idx):\n",
    "        img_name = self.files[idx]\n",
    "        img_path = os.path.join(self.path, img_name)\n",
    "        image = Image.open(img_path).convert('RGB')\n",
    "        image = self.transform(image)\n",
    "        img_id = int(img_name.split('.')[0])\n",
    "        return image, img_id"
   ]
  },
  {
   "cell_type": "code",
   "execution_count": null,
   "metadata": {
    "execution": {
     "iopub.execute_input": "2025-04-16T06:56:23.542740Z",
     "iopub.status.busy": "2025-04-16T06:56:23.542438Z",
     "iopub.status.idle": "2025-04-16T06:56:23.565017Z",
     "shell.execute_reply": "2025-04-16T06:56:23.564232Z",
     "shell.execute_reply.started": "2025-04-16T06:56:23.542715Z"
    },
    "trusted": true
   },
   "outputs": [],
   "source": [
    "test_dataset = TestDataset(test_dir, test_transform)"
   ]
  },
  {
   "cell_type": "code",
   "execution_count": null,
   "metadata": {
    "execution": {
     "iopub.execute_input": "2025-04-16T06:56:32.503904Z",
     "iopub.status.busy": "2025-04-16T06:56:32.503458Z",
     "iopub.status.idle": "2025-04-16T06:56:32.509507Z",
     "shell.execute_reply": "2025-04-16T06:56:32.508618Z",
     "shell.execute_reply.started": "2025-04-16T06:56:32.503876Z"
    },
    "trusted": true
   },
   "outputs": [],
   "source": [
    "len(test_dataset)"
   ]
  },
  {
   "cell_type": "code",
   "execution_count": null,
   "metadata": {
    "execution": {
     "iopub.execute_input": "2025-04-16T06:56:57.336615Z",
     "iopub.status.busy": "2025-04-16T06:56:57.336337Z",
     "iopub.status.idle": "2025-04-16T06:56:57.341488Z",
     "shell.execute_reply": "2025-04-16T06:56:57.340524Z",
     "shell.execute_reply.started": "2025-04-16T06:56:57.336579Z"
    },
    "trusted": true
   },
   "outputs": [],
   "source": [
    "test_loader = DataLoader(test_dataset, batch_size=64)"
   ]
  },
  {
   "cell_type": "code",
   "execution_count": null,
   "metadata": {
    "execution": {
     "iopub.execute_input": "2025-04-16T06:57:03.081210Z",
     "iopub.status.busy": "2025-04-16T06:57:03.080483Z",
     "iopub.status.idle": "2025-04-16T06:57:03.086781Z",
     "shell.execute_reply": "2025-04-16T06:57:03.085895Z",
     "shell.execute_reply.started": "2025-04-16T06:57:03.081176Z"
    },
    "trusted": true
   },
   "outputs": [],
   "source": [
    "len(test_loader)"
   ]
  },
  {
   "cell_type": "code",
   "execution_count": null,
   "metadata": {
    "execution": {
     "iopub.execute_input": "2025-04-16T07:00:03.955624Z",
     "iopub.status.busy": "2025-04-16T07:00:03.955318Z",
     "iopub.status.idle": "2025-04-16T07:02:55.830573Z",
     "shell.execute_reply": "2025-04-16T07:02:55.829851Z",
     "shell.execute_reply.started": "2025-04-16T07:00:03.955600Z"
    },
    "trusted": true
   },
   "outputs": [],
   "source": [
    "model.eval()\n",
    "results = []\n",
    "\n",
    "with torch.no_grad():\n",
    "    for images, img_ids in test_loader:\n",
    "        images = images.to(device)\n",
    "        outputs = model(images)\n",
    "        preds = (outputs > 0.5).int().squeeze().cpu().numpy()\n",
    "        for img_id, pred in zip(img_ids, preds):\n",
    "            results.append((img_id, pred))"
   ]
  },
  {
   "cell_type": "code",
   "execution_count": null,
   "metadata": {
    "execution": {
     "iopub.execute_input": "2025-04-16T07:03:26.830202Z",
     "iopub.status.busy": "2025-04-16T07:03:26.829876Z",
     "iopub.status.idle": "2025-04-16T07:03:26.835930Z",
     "shell.execute_reply": "2025-04-16T07:03:26.834985Z",
     "shell.execute_reply.started": "2025-04-16T07:03:26.830181Z"
    },
    "trusted": true
   },
   "outputs": [],
   "source": [
    "len(results)"
   ]
  },
  {
   "cell_type": "code",
   "execution_count": null,
   "metadata": {
    "execution": {
     "iopub.execute_input": "2025-04-16T07:09:49.523213Z",
     "iopub.status.busy": "2025-04-16T07:09:49.522931Z",
     "iopub.status.idle": "2025-04-16T07:09:49.529341Z",
     "shell.execute_reply": "2025-04-16T07:09:49.528364Z",
     "shell.execute_reply.started": "2025-04-16T07:09:49.523193Z"
    },
    "trusted": true
   },
   "outputs": [],
   "source": [
    "type(results[0][0])"
   ]
  },
  {
   "cell_type": "markdown",
   "metadata": {},
   "source": [
    "### results to csv\n",
    "\n",
    "- submission.csv 파일을 submit 할것!"
   ]
  },
  {
   "cell_type": "code",
   "execution_count": null,
   "metadata": {
    "execution": {
     "iopub.execute_input": "2025-04-16T07:04:01.471710Z",
     "iopub.status.busy": "2025-04-16T07:04:01.471397Z",
     "iopub.status.idle": "2025-04-16T07:04:01.475559Z",
     "shell.execute_reply": "2025-04-16T07:04:01.474891Z",
     "shell.execute_reply.started": "2025-04-16T07:04:01.471685Z"
    },
    "trusted": true
   },
   "outputs": [],
   "source": [
    "import pandas as pd"
   ]
  },
  {
   "cell_type": "code",
   "execution_count": null,
   "metadata": {
    "execution": {
     "iopub.execute_input": "2025-04-16T07:04:38.401979Z",
     "iopub.status.busy": "2025-04-16T07:04:38.401321Z",
     "iopub.status.idle": "2025-04-16T07:04:38.449588Z",
     "shell.execute_reply": "2025-04-16T07:04:38.448589Z",
     "shell.execute_reply.started": "2025-04-16T07:04:38.401946Z"
    },
    "trusted": true
   },
   "outputs": [],
   "source": [
    "results.sort(key=lambda x: x[0])"
   ]
  },
  {
   "cell_type": "code",
   "execution_count": null,
   "metadata": {
    "execution": {
     "iopub.execute_input": "2025-04-16T07:09:58.147415Z",
     "iopub.status.busy": "2025-04-16T07:09:58.147053Z",
     "iopub.status.idle": "2025-04-16T07:09:58.166153Z",
     "shell.execute_reply": "2025-04-16T07:09:58.165263Z",
     "shell.execute_reply.started": "2025-04-16T07:09:58.147390Z"
    },
    "trusted": true
   },
   "outputs": [],
   "source": [
    "results = [(int(i), int(label)) for i, label in results]"
   ]
  },
  {
   "cell_type": "code",
   "execution_count": null,
   "metadata": {
    "execution": {
     "iopub.execute_input": "2025-04-16T07:10:00.037002Z",
     "iopub.status.busy": "2025-04-16T07:10:00.036630Z",
     "iopub.status.idle": "2025-04-16T07:10:00.053718Z",
     "shell.execute_reply": "2025-04-16T07:10:00.052957Z",
     "shell.execute_reply.started": "2025-04-16T07:10:00.036977Z"
    },
    "trusted": true
   },
   "outputs": [],
   "source": [
    "df = pd.DataFrame(results, columns=['id', 'label'])\n",
    "df.tail()"
   ]
  },
  {
   "cell_type": "code",
   "execution_count": null,
   "metadata": {
    "execution": {
     "iopub.execute_input": "2025-04-16T07:10:03.218131Z",
     "iopub.status.busy": "2025-04-16T07:10:03.217809Z",
     "iopub.status.idle": "2025-04-16T07:10:03.233399Z",
     "shell.execute_reply": "2025-04-16T07:10:03.232445Z",
     "shell.execute_reply.started": "2025-04-16T07:10:03.218108Z"
    },
    "trusted": true
   },
   "outputs": [],
   "source": [
    "df.to_csv('submission.csv', index=False)"
   ]
  },
  {
   "cell_type": "code",
   "execution_count": null,
   "metadata": {
    "execution": {
     "iopub.execute_input": "2025-04-16T07:10:05.557241Z",
     "iopub.status.busy": "2025-04-16T07:10:05.556949Z",
     "iopub.status.idle": "2025-04-16T07:10:05.569523Z",
     "shell.execute_reply": "2025-04-16T07:10:05.568392Z",
     "shell.execute_reply.started": "2025-04-16T07:10:05.557221Z"
    },
    "trusted": true
   },
   "outputs": [],
   "source": [
    "df2 = pd.read_csv('submission.csv')\n",
    "df2.tail()"
   ]
  }
 ],
 "metadata": {
  "kaggle": {
   "accelerator": "none",
   "dataSources": [
    {
     "databundleVersionId": 31148,
     "sourceId": 3362,
     "sourceType": "competition"
    }
   ],
   "dockerImageVersionId": 31012,
   "isGpuEnabled": false,
   "isInternetEnabled": true,
   "language": "python",
   "sourceType": "notebook"
  },
  "kernelspec": {
   "display_name": "mlvenv",
   "language": "python",
   "name": "python3"
  },
  "language_info": {
   "codemirror_mode": {
    "name": "ipython",
    "version": 3
   },
   "file_extension": ".py",
   "mimetype": "text/x-python",
   "name": "python",
   "nbconvert_exporter": "python",
   "pygments_lexer": "ipython3",
   "version": "3.11.9"
  }
 },
 "nbformat": 4,
 "nbformat_minor": 4
}
